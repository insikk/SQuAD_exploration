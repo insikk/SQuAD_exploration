{
 "cells": [
  {
   "cell_type": "markdown",
   "metadata": {},
   "source": [
    "# Get triplet\n",
    "\n",
    "Suppose there is a list of question IDs we are interested in. We want to recover the paragraph related to the question, which is a context, the question, and the ground truth answer. "
   ]
  },
  {
   "cell_type": "code",
   "execution_count": 6,
   "metadata": {
    "collapsed": false
   },
   "outputs": [
    {
     "name": "stdout",
     "output_type": "stream",
     "text": [
      "['56be4db0acb8001400a502ec', '56be4db0acb8001400a502ed']\n",
      "10570\n"
     ]
    }
   ],
   "source": [
    "# We can load the question id list from json formatted file.\n",
    "import json\n",
    "qid_list_filename = \"incorrect_ids.json\"\n",
    "with open(qid_list_filename) as f:\n",
    "    qids = json.load(f)\n",
    "    \n",
    "    \n",
    "print(qids[0:2])\n",
    "print(len(qids))\n"
   ]
  },
  {
   "cell_type": "code",
   "execution_count": 7,
   "metadata": {
    "collapsed": false
   },
   "outputs": [
    {
     "name": "stdout",
     "output_type": "stream",
     "text": [
      "['56be4db0acb8001400a502ec', '56be4db0acb8001400a502ed']\n",
      "3\n"
     ]
    }
   ],
   "source": [
    "# Or we can directly define the list here\n",
    "qids = [\"56be4db0acb8001400a502ec\", \"56be4db0acb8001400a502ed\", \"56be4db0acb8001400a502ee\"]\n",
    "\n",
    "print(qids[0:2])\n",
    "print(len(qids))"
   ]
  },
  {
   "cell_type": "code",
   "execution_count": 12,
   "metadata": {
    "collapsed": false
   },
   "outputs": [],
   "source": [
    "# Create dictionary for testing membership\n",
    "qids = dict(zip(qids, [True]*len(qids)))\n",
    "print(qids)"
   ]
  },
  {
   "cell_type": "code",
   "execution_count": 29,
   "metadata": {
    "collapsed": false
   },
   "outputs": [
    {
     "name": "stdout",
     "output_type": "stream",
     "text": [
      "train datafile info:\n",
      "\tversion: 1.1\n",
      "\n",
      "Question ID: 56be4db0acb8001400a502ec\n",
      "0: Super Bowl 50 was an American football game to determine the champion of the National Football League (NFL) for the 2015 season. \n",
      "1: The American Football Conference (AFC) champion Denver Broncos defeated the National Football Conference (NFC) champion Carolina Panthers 24–10 to earn their third Super Bowl title. \n",
      "2: The game was played on February 7, 2016, at Levi's Stadium in the San Francisco Bay Area at Santa Clara, California. \n",
      "3: As this was the 50th Super Bowl, the league emphasized the \"golden anniversary\" with various gold-themed initiatives, as well as temporarily suspending the tradition of naming each Super Bowl game with Roman numerals (under which the game would have been known as \"Super Bowl L\"), so that the logo could prominently feature the Arabic numerals 50.\n",
      "\n",
      "Question: Which NFL team represented the AFC at Super Bowl 50?\n",
      "\n",
      "\"Denver Broncos\" from sentence idx 1\n",
      "\"Denver Broncos\" from sentence idx 1\n",
      "\"Denver Broncos\" from sentence idx 1\n",
      "---------------------------------------------------------\n",
      "\n",
      "Question ID: 56be4db0acb8001400a502ed\n",
      "0: Super Bowl 50 was an American football game to determine the champion of the National Football League (NFL) for the 2015 season. \n",
      "1: The American Football Conference (AFC) champion Denver Broncos defeated the National Football Conference (NFC) champion Carolina Panthers 24–10 to earn their third Super Bowl title. \n",
      "2: The game was played on February 7, 2016, at Levi's Stadium in the San Francisco Bay Area at Santa Clara, California. \n",
      "3: As this was the 50th Super Bowl, the league emphasized the \"golden anniversary\" with various gold-themed initiatives, as well as temporarily suspending the tradition of naming each Super Bowl game with Roman numerals (under which the game would have been known as \"Super Bowl L\"), so that the logo could prominently feature the Arabic numerals 50.\n",
      "\n",
      "Question: Which NFL team represented the NFC at Super Bowl 50?\n",
      "\n",
      "\"Carolina Panthers\" from sentence idx 1\n",
      "\"Carolina Panthers\" from sentence idx 1\n",
      "\"Carolina Panthers\" from sentence idx 1\n",
      "---------------------------------------------------------\n",
      "\n",
      "Question ID: 56be4db0acb8001400a502ee\n",
      "0: Super Bowl 50 was an American football game to determine the champion of the National Football League (NFL) for the 2015 season. \n",
      "1: The American Football Conference (AFC) champion Denver Broncos defeated the National Football Conference (NFC) champion Carolina Panthers 24–10 to earn their third Super Bowl title. \n",
      "2: The game was played on February 7, 2016, at Levi's Stadium in the San Francisco Bay Area at Santa Clara, California. \n",
      "3: As this was the 50th Super Bowl, the league emphasized the \"golden anniversary\" with various gold-themed initiatives, as well as temporarily suspending the tradition of naming each Super Bowl game with Roman numerals (under which the game would have been known as \"Super Bowl L\"), so that the logo could prominently feature the Arabic numerals 50.\n",
      "\n",
      "Question: Where did Super Bowl 50 take place?\n",
      "\n",
      "\"Santa Clara, California\" from sentence idx 2\n",
      "\"Levi's Stadium\" from sentence idx 2\n",
      "\"Levi's Stadium in the San Francisco Bay Area at Santa Clara, California.\" from sentence idx 2\n",
      "---------------------------------------------------------\n",
      "\n"
     ]
    }
   ],
   "source": [
    "import os\n",
    "\n",
    "work_dir = \"..\\\\data\\\\\"\n",
    "dev_filename = \"dev-v1.1.json\"\n",
    "\n",
    "with open(os.path.join(work_dir, dev_filename)) as data_file:    \n",
    "    dev_data = json.load(data_file)\n",
    "\n",
    "\n",
    "print(\"train datafile info:\")\n",
    "print(\"\\tversion:\", dev_data[\"version\"])\n",
    "print()\n",
    "\n",
    "data = dev_data[\"data\"]\n",
    "\n",
    "\n",
    "def get_sentence_spans(context):\n",
    "    from nltk.data import load\n",
    "    tokenizer = load('tokenizers/punkt/{0}.pickle'.format('english'))\n",
    "    sentence_span = tokenizer.span_tokenize(context)\n",
    "    return sentence_span\n",
    "\n",
    "def get_sentence_index(answer_span, sentence_spans):\n",
    "    idx = None\n",
    "    for sent_idx, sent_span in enumerate(sentence_spans):\n",
    "            if sent_span[0] <= answer_span[0] and answer_span[1] <=sent_span[1]+1:\n",
    "                idx = sent_idx\n",
    "                break\n",
    "    return idx\n",
    "\n",
    "\n",
    "for article in data:\n",
    "    title = article[\"title\"]\n",
    "    # print(title)\n",
    "    paragraphs = article[\"paragraphs\"]\n",
    "    for paragraph in paragraphs:\n",
    "        context = paragraph[\"context\"]\n",
    "        qas = paragraph[\"qas\"]\n",
    "        spans = get_sentence_spans(context)\n",
    "        for qa in qas:\n",
    "            id = qa[\"id\"]\n",
    "            if id in qids:\n",
    "                question = qa[\"question\"]\n",
    "                answers = qa[\"answers\"]\n",
    "                \n",
    "                print(\"Question ID:\", id)\n",
    "                # print context sentence by sentence\n",
    "                for idx, sent_span in enumerate(spans):\n",
    "                    print(\"%d: %s\" %(idx, context[sent_span[0]:sent_span[1]+1]))\n",
    "                print()\n",
    "                print(\"Question:\", question)\n",
    "                print()\n",
    "                for answer in answers:\n",
    "                    print(\"\\\"%s\\\" from sentence idx %d\" % (answer['text'], get_sentence_index(\n",
    "                            (answer['answer_start'], answer['answer_start'] + len(answer['text'])),\n",
    "                            spans\n",
    "                        )))\n",
    "                print('---------------------------------------------------------')\n",
    "                print()\n",
    "            \n",
    "    "
   ]
  }
 ],
 "metadata": {
  "anaconda-cloud": {},
  "kernelspec": {
   "display_name": "Python [conda root]",
   "language": "python",
   "name": "conda-root-py"
  },
  "language_info": {
   "codemirror_mode": {
    "name": "ipython",
    "version": 3
   },
   "file_extension": ".py",
   "mimetype": "text/x-python",
   "name": "python",
   "nbconvert_exporter": "python",
   "pygments_lexer": "ipython3",
   "version": "3.5.2"
  }
 },
 "nbformat": 4,
 "nbformat_minor": 1
}
