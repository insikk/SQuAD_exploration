{
 "cells": [
  {
   "cell_type": "markdown",
   "metadata": {},
   "source": [
    "# Basic Statistic of SQuAD dataset\n",
    "\n"
   ]
  },
  {
   "cell_type": "code",
   "execution_count": 1,
   "metadata": {
    "collapsed": true
   },
   "outputs": [],
   "source": [
    "work_dir = \"..\\\\data\\\\\"\n",
    "# train_filename = \"train-v1.1.json\"\n",
    "train_filename = \"dev-v1.1.json\""
   ]
  },
  {
   "cell_type": "code",
   "execution_count": 3,
   "metadata": {
    "collapsed": false
   },
   "outputs": [
    {
     "name": "stdout",
     "output_type": "stream",
     "text": [
      "train datafile info:\n",
      "\tversion: 1.1\n",
      "total number of problems: 10570\n"
     ]
    }
   ],
   "source": [
    "import json\n",
    "import os\n",
    "from pprint import pprint\n",
    "\n",
    "with open(os.path.join(work_dir, train_filename)) as data_file:    \n",
    "    train_data = json.load(data_file)\n",
    "\n",
    "\n",
    "print(\"train datafile info:\")\n",
    "print(\"\\tversion:\", train_data[\"version\"])\n",
    "\n",
    "data = train_data[\"data\"]\n",
    "\n",
    "problem_count = 0\n",
    "\n",
    "for article in data:\n",
    "    title = article[\"title\"]\n",
    "    # print(title)\n",
    "    paragraphs = article[\"paragraphs\"]\n",
    "    for paragraph in paragraphs:\n",
    "        context = paragraph[\"context\"]\n",
    "        qas = paragraph[\"qas\"]\n",
    "\n",
    "        for qa in qas:\n",
    "            id = qa[\"id\"]\n",
    "            question = qa[\"question\"]\n",
    "            answers = qa[\"answers\"]\n",
    "            \n",
    "            problem_count = problem_count + 1\n",
    "    \n",
    "print(\"total number of problems:\", problem_count)\n",
    "    "
   ]
  }
 ],
 "metadata": {
  "anaconda-cloud": {},
  "kernelspec": {
   "display_name": "Python [conda root]",
   "language": "python",
   "name": "conda-root-py"
  },
  "language_info": {
   "codemirror_mode": {
    "name": "ipython",
    "version": 3
   },
   "file_extension": ".py",
   "mimetype": "text/x-python",
   "name": "python",
   "nbconvert_exporter": "python",
   "pygments_lexer": "ipython3",
   "version": "3.5.2"
  }
 },
 "nbformat": 4,
 "nbformat_minor": 1
}
