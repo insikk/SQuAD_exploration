{
 "cells": [
  {
   "cell_type": "markdown",
   "metadata": {},
   "source": [
    "# Is there an answer sentence?\n",
    "\n",
    "Finding a sentence containing answer span is necessary condition of well-performing model. If every answer span is contained in a single sentence, we could use this measure to test various model's performance. \n",
    "\n",
    "\n",
    "[ ] optional question: can we divide context into sentence only with '.'? Is there any exception?\n"
   ]
  },
  {
   "cell_type": "code",
   "execution_count": 1,
   "metadata": {
    "collapsed": true
   },
   "outputs": [],
   "source": [
    "work_dir = \"..\\\\data\\\\\"\n",
    "train_filename = \"train-v1.1.json\"\n",
    "# train_filename = \"dev-v1.1.json\""
   ]
  },
  {
   "cell_type": "code",
   "execution_count": 8,
   "metadata": {
    "collapsed": false
   },
   "outputs": [
    {
     "name": "stdout",
     "output_type": "stream",
     "text": [
      "train datafile info:\n",
      "\tversion: 1.1\n",
      "5733be284776f41900661182\n",
      "Architecturally, the school has a Catholic character\n",
      " Atop the Main Building's gold dome is a golden statue of the Virgin Mary\n",
      " Immediately in front of the Main Building and facing it, is a copper statue of Christ with arms upraised with the legend \"Venite Ad Me Omnes\"\n",
      " Next to the Main Building is the Basilica of the Sacred Heart\n",
      " Immediately behind the basilica is the Grotto, a Marian place of prayer and reflection\n",
      " It is a replica of the grotto at Lourdes, France where the Virgin Mary reputedly appeared to Saint Bernadette Soubirous in 1858\n",
      " At the end of the main drive (and in a direct line that connects through 3 statues and the Gold Dome), is a simple, modern stone statue of Mary\n",
      "\n",
      "To whom did the Virgin Mary allegedly appear in 1858 in Lourdes France?\n",
      "[{'answer_start': 515, 'text': 'Saint Bernadette Soubirous'}]\n",
      "Saint Bern\n",
      "total number of problems: 1\n"
     ]
    }
   ],
   "source": [
    "import json\n",
    "import os\n",
    "from pprint import pprint\n",
    "\n",
    "with open(os.path.join(work_dir, train_filename)) as data_file:    \n",
    "    train_data = json.load(data_file)\n",
    "\n",
    "\n",
    "print(\"train datafile info:\")\n",
    "print(\"\\tversion:\", train_data[\"version\"])\n",
    "\n",
    "data = train_data[\"data\"]\n",
    "\n",
    "problem_count = 0\n",
    "\n",
    "for article in data:\n",
    "    title = article[\"title\"]\n",
    "    # print(title)\n",
    "    paragraphs = article[\"paragraphs\"]\n",
    "    for paragraph in paragraphs:\n",
    "        context = paragraph[\"context\"]\n",
    "        qas = paragraph[\"qas\"]\n",
    "\n",
    "        for qa in qas:\n",
    "            id = qa[\"id\"]\n",
    "            question = qa[\"question\"]\n",
    "            answers = qa[\"answers\"]\n",
    "            \n",
    "            print(id)\n",
    "            sentences = context.split(\".\")\n",
    "            index_span = []\n",
    "            for s in sentences:\n",
    "                print(s)\n",
    "            \n",
    "            print(question)\n",
    "            print(answers)\n",
    "            problem_count = problem_count + 1\n",
    "            print(context[515:525])\n",
    "            break\n",
    "        break\n",
    "    break\n",
    "    \n",
    "print(\"total number of problems:\", problem_count)\n",
    "    "
   ]
  }
 ],
 "metadata": {
  "anaconda-cloud": {},
  "kernelspec": {
   "display_name": "Python [conda root]",
   "language": "python",
   "name": "conda-root-py"
  },
  "language_info": {
   "codemirror_mode": {
    "name": "ipython",
    "version": 3
   },
   "file_extension": ".py",
   "mimetype": "text/x-python",
   "name": "python",
   "nbconvert_exporter": "python",
   "pygments_lexer": "ipython3",
   "version": "3.5.2"
  }
 },
 "nbformat": 4,
 "nbformat_minor": 1
}
